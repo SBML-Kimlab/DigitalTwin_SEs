{
 "cells": [
  {
   "cell_type": "markdown",
   "id": "b2e3eb15-bb74-4df6-b112-a3412b66f192",
   "metadata": {},
   "source": [
    "# 0. Import Libraries"
   ]
  },
  {
   "cell_type": "code",
   "execution_count": 3,
   "id": "f615d945-8e81-4d87-bb93-d7de317a7211",
   "metadata": {},
   "outputs": [],
   "source": [
    "import pandas as pd\n",
    "import numpy as np\n",
    "import cv2 as cv\n",
    "import matplotlib.pyplot as plt\n",
    "import os"
   ]
  },
  {
   "cell_type": "markdown",
   "id": "32e5feab-380b-43ca-b5a4-324aee60f179",
   "metadata": {},
   "source": [
    "# 1. Pore volume and surface area calculations "
   ]
  },
  {
   "cell_type": "code",
   "execution_count": 4,
   "id": "e4974162",
   "metadata": {
    "scrolled": true
   },
   "outputs": [],
   "source": [
    "d = pd.read_csv('/home/sbml/Desktop/0.solid_electrolyte/id_240729/try1_xyz/1.coating/pore_listup_240722.csv')\n",
    "idl = d['pore_category'].tolist()\n",
    "idl = [eval(i) for i in idl]\n",
    "id_list = []\n",
    "for i in idl:\n",
    "    id_list = id_list + i\n",
    "id_list = list(set(id_list))"
   ]
  },
  {
   "cell_type": "code",
   "execution_count": 5,
   "id": "1bba8632",
   "metadata": {},
   "outputs": [
    {
     "name": "stdout",
     "output_type": "stream",
     "text": [
      "\n"
     ]
    }
   ],
   "source": [
    "volume = []\n",
    "surface = []\n",
    "for i in id_list:\n",
    "    df = pd.read_csv('/home/sbml/Desktop/0.solid_electrolyte/240729_new_pore_index/0.bare/pore_particle/' + str(i) + '.csv')\n",
    "    pore_cordi = df['pore_cordinate'].tolist()\n",
    "    pore_cordi = [eval(i) for i in pore_cordi]\n",
    "\n",
    "    v, s = [], []\n",
    "    for p in pore_cordi:\n",
    "        p0 = np.array(p)\n",
    "        M = cv.moments(p0)\n",
    "        v.append(M['m00'])\n",
    "        s.append(cv.arcLength(p0, False))\n",
    "    \n",
    "    volume.append(v)\n",
    "    surface.append(s)"
   ]
  },
  {
   "cell_type": "code",
   "execution_count": 11,
   "id": "ec4a335c",
   "metadata": {},
   "outputs": [],
   "source": [
    "df = pd.DataFrame({})\n",
    "df['Pore_id'] = id_list\n",
    "df['volume_raw'] = volume\n",
    "df['volume_mean'] = [np.mean(i) for i in volume]\n",
    "df['surface_raw'] = surface\n",
    "df['surface_mean'] = [np.mean(i) for i in surface]"
   ]
  },
  {
   "cell_type": "code",
   "execution_count": 12,
   "id": "bb9b2479",
   "metadata": {},
   "outputs": [],
   "source": [
    "df.to_csv('/home/sbml/Desktop/0.solid_electrolyte/feature_extraction_240728/extracted_bare_pores.csv')"
   ]
  }
 ],
 "metadata": {
  "kernelspec": {
   "display_name": "Python 3 (ipykernel)",
   "language": "python",
   "name": "python3"
  },
  "language_info": {
   "codemirror_mode": {
    "name": "ipython",
    "version": 3
   },
   "file_extension": ".py",
   "mimetype": "text/x-python",
   "name": "python",
   "nbconvert_exporter": "python",
   "pygments_lexer": "ipython3",
   "version": "3.10.14"
  },
  "widgets": {
   "application/vnd.jupyter.widget-state+json": {
    "state": {},
    "version_major": 2,
    "version_minor": 0
   }
  }
 },
 "nbformat": 4,
 "nbformat_minor": 5
}
