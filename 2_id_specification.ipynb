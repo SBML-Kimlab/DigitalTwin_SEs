{
 "cells": [
  {
   "cell_type": "markdown",
   "id": "a13810d4-c4d0-4495-b889-d9ece9ef49ba",
   "metadata": {},
   "source": [
    "# 0. Import Libraries"
   ]
  },
  {
   "cell_type": "code",
   "execution_count": 2,
   "id": "367caad2-0ff2-48bc-89d0-90bc778ee250",
   "metadata": {},
   "outputs": [],
   "source": [
    "import pandas as pd\n",
    "import numpy as np\n",
    "import cv2 as cv\n",
    "import matplotlib.pyplot as plt\n",
    "import os"
   ]
  },
  {
   "cell_type": "markdown",
   "id": "530384aa",
   "metadata": {},
   "source": [
    "# 1. ncm id specification"
   ]
  },
  {
   "cell_type": "code",
   "execution_count": 2,
   "id": "604d48d4",
   "metadata": {},
   "outputs": [],
   "source": [
    "# bare"
   ]
  },
  {
   "cell_type": "code",
   "execution_count": 3,
   "id": "a0e9a0cd",
   "metadata": {},
   "outputs": [],
   "source": [
    "path_dir = '/home/sbml/Desktop/0.solid_electrolyte/Remaining_240523/0.bare/cathode_particle/'\n",
    "file_list = os.listdir(path_dir)\n",
    "file_list = [i for i in file_list if i.endswith('.csv')]\n",
    "file_list = sorted(file_list)\n",
    "file_list = [path_dir + i for i in file_list]"
   ]
  },
  {
   "cell_type": "code",
   "execution_count": 4,
   "id": "0d580ec0",
   "metadata": {},
   "outputs": [],
   "source": [
    "id_list = [i for i in range(len(file_list))]"
   ]
  },
  {
   "cell_type": "code",
   "execution_count": 5,
   "id": "2e29a965",
   "metadata": {},
   "outputs": [
    {
     "data": {
      "text/plain": [
       "'/home/sbml/Desktop/0.solid_electrolyte/Remaining_240523/0.bare/cathode_particle/frame106_num67.csv'"
      ]
     },
     "execution_count": 5,
     "metadata": {},
     "output_type": "execute_result"
    }
   ],
   "source": [
    "file_list[5]"
   ]
  },
  {
   "cell_type": "code",
   "execution_count": 6,
   "id": "8fc3d880",
   "metadata": {},
   "outputs": [],
   "source": [
    "df = pd.DataFrame({})\n",
    "df['id'] = id_list\n",
    "df['file'] = file_list\n",
    "df.to_csv('/home/sbml/Desktop/0.solid_electrolyte/id_240728/bare_ncm_id.csv')"
   ]
  },
  {
   "cell_type": "code",
   "execution_count": 7,
   "id": "5dbfe642",
   "metadata": {},
   "outputs": [],
   "source": [
    "# coating"
   ]
  },
  {
   "cell_type": "code",
   "execution_count": 7,
   "id": "b3983a13",
   "metadata": {},
   "outputs": [],
   "source": [
    "path_dir = '/home/sbml/Desktop/0.solid_electrolyte/Remaining_240523/1.coating/cathode_particle/'\n",
    "file_list = os.listdir(path_dir)\n",
    "file_list = [i for i in file_list if i.endswith('.csv')]\n",
    "file_list = sorted(file_list)\n",
    "file_list = [path_dir + i for i in file_list]"
   ]
  },
  {
   "cell_type": "code",
   "execution_count": 8,
   "id": "a127dac6",
   "metadata": {
    "scrolled": true
   },
   "outputs": [],
   "source": [
    "id_list = [i for i in range(len(file_list))]"
   ]
  },
  {
   "cell_type": "code",
   "execution_count": 9,
   "id": "3623653e",
   "metadata": {},
   "outputs": [],
   "source": [
    "df = pd.DataFrame({})\n",
    "df['id'] = id_list\n",
    "df['file'] = file_list\n",
    "df.to_csv('/home/sbml/Desktop/0.solid_electrolyte/id_240728/coating_ncm_id.csv')"
   ]
  },
  {
   "cell_type": "markdown",
   "id": "0285750f",
   "metadata": {},
   "source": [
    "# 2. pore id specification"
   ]
  },
  {
   "cell_type": "code",
   "execution_count": 12,
   "id": "8a5855d6",
   "metadata": {
    "scrolled": true
   },
   "outputs": [],
   "source": [
    "for file in range(608):\n",
    "    d = pd.read_csv('/home/sbml/Desktop/0.solid_electrolyte/FIB_SEM_240430/ncmwithpore_csv/bare/' + str(file) + '.csv')\n",
    "    d2 = d[d['pore'] != '[[]]']\n",
    "    pore = d2['pore'].tolist()\n",
    "    pore = [eval(i) for i in pore]\n",
    "    pore_l = []\n",
    "    for i in pore:\n",
    "        pore_l += i\n",
    "\n",
    "    df = pd.DataFrame({})\n",
    "    df['pore'] = [str(i) for i in pore_l]\n",
    "    df = df[df['pore'] != '[]']\n",
    "    df['id'] = [i for i in range(len(df))]\n",
    "\n",
    "    compare_target = df['pore'].tolist()\n",
    "    compare_target = [eval(i) for i in compare_target]\n",
    "    pore = d['pore'].tolist()\n",
    "    pore = [eval(i) for i in pore]\n",
    "    ind_l = []\n",
    "    for i in pore:\n",
    "        if i == [[]]:\n",
    "            ind_l.append([])\n",
    "        else:\n",
    "            ind_list = []\n",
    "            for j in i:\n",
    "                if j != []:\n",
    "                    ind = compare_target.index(j)\n",
    "                    ind_list.append(ind)\n",
    "                elif j == []:\n",
    "                    ind_list.append([])\n",
    "            ind_l.append(ind_list)\n",
    "\n",
    "    df.to_csv('/home/sbml/Desktop/0.solid_electrolyte/id_240728/0.bare/pore_id_for_frames/frame' + str(file) + '.csv')\n",
    "    \n",
    "    d['pore_ind'] = ind_l\n",
    "    d.columns = ['ncm_ind', 'ncm_cordi', 'pore', 'pore_ind']\n",
    "    d.to_csv('/home/sbml/Desktop/0.solid_electrolyte/id_240728/0.bare/ncm_pore_id_cordi/frame' + str(file) + '.csv')\n",
    "    \n",
    "    "
   ]
  }
 ],
 "metadata": {
  "kernelspec": {
   "display_name": "Python 3 (ipykernel)",
   "language": "python",
   "name": "python3"
  },
  "language_info": {
   "codemirror_mode": {
    "name": "ipython",
    "version": 3
   },
   "file_extension": ".py",
   "mimetype": "text/x-python",
   "name": "python",
   "nbconvert_exporter": "python",
   "pygments_lexer": "ipython3",
   "version": "3.10.14"
  },
  "widgets": {
   "application/vnd.jupyter.widget-state+json": {
    "state": {},
    "version_major": 2,
    "version_minor": 0
   }
  }
 },
 "nbformat": 4,
 "nbformat_minor": 5
}
